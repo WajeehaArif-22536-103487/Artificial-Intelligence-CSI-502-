{
 "cells": [
  {
   "cell_type": "code",
   "execution_count": 1,
   "id": "aa9a27f3-966b-4aa3-93df-c9788aca2976",
   "metadata": {},
   "outputs": [
    {
     "name": "stdout",
     "output_type": "stream",
     "text": [
      "hello world\n"
     ]
    }
   ],
   "source": [
    "print(\"hello world\")\n"
   ]
  },
  {
   "cell_type": "code",
   "execution_count": 3,
   "id": "c5175ab4-e9ac-4d5b-a90d-f0cea0e1406d",
   "metadata": {},
   "outputs": [
    {
     "name": "stdout",
     "output_type": "stream",
     "text": [
      "1\n"
     ]
    }
   ],
   "source": [
    "x=1\n",
    "print(x)\n"
   ]
  },
  {
   "cell_type": "code",
   "execution_count": 4,
   "id": "0a604f80-5e8e-48c9-ae79-be1f84aa6f84",
   "metadata": {},
   "outputs": [
    {
     "name": "stdout",
     "output_type": "stream",
     "text": [
      "Enter a number: 9\n"
     ]
    }
   ],
   "source": [
    "x=input(\"Enter a number:\")"
   ]
  },
  {
   "cell_type": "code",
   "execution_count": 7,
   "id": "78f7a9c2-0fc5-47f3-b77f-7fb059fd4449",
   "metadata": {},
   "outputs": [
    {
     "name": "stdout",
     "output_type": "stream",
     "text": [
      "9\n"
     ]
    }
   ],
   "source": [
    "print(x)"
   ]
  },
  {
   "cell_type": "code",
   "execution_count": 5,
   "id": "6b1c20c9-2a4f-403d-a5e8-c8f4566c83ec",
   "metadata": {},
   "outputs": [
    {
     "name": "stdout",
     "output_type": "stream",
     "text": [
      " Enter your name: Wajeeha Arif\n"
     ]
    },
    {
     "data": {
      "text/plain": [
       "'Wajeeha Arif'"
      ]
     },
     "execution_count": 5,
     "metadata": {},
     "output_type": "execute_result"
    }
   ],
   "source": [
    "input(\" Enter your name:\")"
   ]
  },
  {
   "cell_type": "code",
   "execution_count": 10,
   "id": "34f360bc-210e-4ec2-a456-55d438af4c4a",
   "metadata": {},
   "outputs": [
    {
     "name": "stdout",
     "output_type": "stream",
     "text": [
      "10\n"
     ]
    }
   ],
   "source": [
    "a=5\n",
    "b=5\n",
    "c=a+b\n",
    "print(c)"
   ]
  },
  {
   "cell_type": "code",
   "execution_count": 7,
   "id": "a7c80da8-b436-4e26-9658-f61e9d4ee456",
   "metadata": {},
   "outputs": [
    {
     "name": "stdout",
     "output_type": "stream",
     "text": [
      "[1, 2, 3, 4, 5]\n"
     ]
    }
   ],
   "source": [
    "array=[1,2,3,4,5]\n",
    "print(array)"
   ]
  },
  {
   "cell_type": "code",
   "execution_count": 23,
   "id": "518e2455-d8fe-4aec-8976-2240289a9cae",
   "metadata": {},
   "outputs": [
    {
     "name": "stdout",
     "output_type": "stream",
     "text": [
      "Firdous,Wajeeha,Maryam\n"
     ]
    }
   ],
   "source": [
    "string=(\"Firdous,Wajeeha,Maryam\")\n",
    "print(string)"
   ]
  },
  {
   "cell_type": "code",
   "execution_count": 2,
   "id": "92c30c89-014e-4615-8a2c-f3ea1978cac5",
   "metadata": {},
   "outputs": [
    {
     "name": "stdout",
     "output_type": "stream",
     "text": [
      "h\n"
     ]
    }
   ],
   "source": [
    "p=('h')\n",
    "print(p)"
   ]
  }
 ],
 "metadata": {
  "kernelspec": {
   "display_name": "Python 3 (ipykernel)",
   "language": "python",
   "name": "python3"
  },
  "language_info": {
   "codemirror_mode": {
    "name": "ipython",
    "version": 3
   },
   "file_extension": ".py",
   "mimetype": "text/x-python",
   "name": "python",
   "nbconvert_exporter": "python",
   "pygments_lexer": "ipython3",
   "version": "3.12.8"
  }
 },
 "nbformat": 4,
 "nbformat_minor": 5
}
