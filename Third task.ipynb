{
 "cells": [
  {
   "cell_type": "code",
   "execution_count": 1,
   "id": "d8527b92-4510-4435-8e9c-7ce82c95bda9",
   "metadata": {},
   "outputs": [
    {
     "name": "stdout",
     "output_type": "stream",
     "text": [
      "Numbers are equal\n"
     ]
    }
   ],
   "source": [
    "a=10\n",
    "b=10\n",
    "if(a==b):\n",
    "    print(\"Numbers are equal\")"
   ]
  },
  {
   "cell_type": "code",
   "execution_count": 2,
   "id": "bc82c385-0685-492f-bead-bcc8b095499e",
   "metadata": {},
   "outputs": [
    {
     "name": "stdout",
     "output_type": "stream",
     "text": [
      "Numbers are equal\n"
     ]
    }
   ],
   "source": [
    "a=10\n",
    "b=10\n",
    "if a==b:\n",
    "    print(\"Numbers are equal\")"
   ]
  },
  {
   "cell_type": "code",
   "execution_count": 3,
   "id": "0ce23d9e-3bee-4ed5-bd10-fcfff78d0321",
   "metadata": {},
   "outputs": [
    {
     "name": "stdout",
     "output_type": "stream",
     "text": [
      "b is greater\n"
     ]
    }
   ],
   "source": [
    "a=10\n",
    "b=20\n",
    "if(a>b):\n",
    "    print(\"a is greater\")\n",
    "else:\n",
    "    print(\"b is greater\")"
   ]
  },
  {
   "cell_type": "code",
   "execution_count": 4,
   "id": "3a8ac02b-287a-4002-a64c-ca82f31f126f",
   "metadata": {},
   "outputs": [
    {
     "name": "stdout",
     "output_type": "stream",
     "text": [
      "b is greater\n"
     ]
    }
   ],
   "source": [
    "a=10\n",
    "b=20\n",
    "if(a>b):\n",
    "    print(\"a is greater\")\n",
    "elif(b>a):\n",
    "    print(\"b is greater\")\n",
    "else:\n",
    "    print(\"Numbers are equal\")\n"
   ]
  },
  {
   "cell_type": "code",
   "execution_count": 5,
   "id": "dbf3576d-7d56-4b5d-bc15-c9a47e670689",
   "metadata": {},
   "outputs": [
    {
     "name": "stdout",
     "output_type": "stream",
     "text": [
      "C is largest number\n"
     ]
    }
   ],
   "source": [
    "a=10\n",
    "b=15\n",
    "c=25\n",
    "if(a>b):\n",
    "    if(a>c):\n",
    "        print(\"A is largest number\")\n",
    "    else:\n",
    "        print(\"C is largest number\")\n",
    "elif(b>c):\n",
    "    print(\"B is largest number\")\n",
    "else:\n",
    "     print(\"C is largest number\")"
   ]
  },
  {
   "cell_type": "code",
   "execution_count": 6,
   "id": "b25c9348-4e98-454c-9c2b-190f7fdbb16a",
   "metadata": {},
   "outputs": [
    {
     "name": "stdout",
     "output_type": "stream",
     "text": [
      "0\n",
      "1\n",
      "2\n",
      "3\n",
      "4\n",
      "5\n"
     ]
    }
   ],
   "source": [
    "for x in range(6):\n",
    "  print(x)"
   ]
  },
  {
   "cell_type": "code",
   "execution_count": 7,
   "id": "394c3043-00ac-450a-b464-6db52e4b5403",
   "metadata": {},
   "outputs": [
    {
     "name": "stdout",
     "output_type": "stream",
     "text": [
      "Wajeeha\n",
      "Wajeeha\n",
      "Wajeeha\n",
      "Wajeeha\n",
      "Wajeeha\n",
      "Wajeeha\n",
      "Wajeeha\n",
      "Wajeeha\n",
      "Wajeeha\n",
      "Wajeeha\n"
     ]
    }
   ],
   "source": [
    "for x in range(10):\n",
    "  print(\"Wajeeha\")"
   ]
  },
  {
   "cell_type": "code",
   "execution_count": 8,
   "id": "04251112-56a8-448f-b535-0edb0d1e7abf",
   "metadata": {},
   "outputs": [
    {
     "name": "stdout",
     "output_type": "stream",
     "text": [
      "p\n",
      "p\n",
      "p\n",
      "p\n",
      "p\n"
     ]
    }
   ],
   "source": [
    "x=\"p\"\n",
    "for i in range(5,10):\n",
    "  print(x)"
   ]
  },
  {
   "cell_type": "code",
   "execution_count": null,
   "id": "be5bcf5a-55fe-4868-9633-0e1c04dcdc22",
   "metadata": {},
   "outputs": [],
   "source": []
  }
 ],
 "metadata": {
  "kernelspec": {
   "display_name": "Python 3 (ipykernel)",
   "language": "python",
   "name": "python3"
  },
  "language_info": {
   "codemirror_mode": {
    "name": "ipython",
    "version": 3
   },
   "file_extension": ".py",
   "mimetype": "text/x-python",
   "name": "python",
   "nbconvert_exporter": "python",
   "pygments_lexer": "ipython3",
   "version": "3.12.8"
  }
 },
 "nbformat": 4,
 "nbformat_minor": 5
}
